# analysis.ipynb

import pandas as pd
import matplotlib.pyplot as plt
import seaborn as sns

# Load dataset (sample metadata.csv kept in ../data/)
df = pd.read_csv("../data/metadata.csv")

# Preview
print(df.shape)
print(df.info())
df.head()

# Handle missing values
print(df.isnull().sum().head())

# Convert publish_time to datetime
df['publish_time'] = pd.to_datetime(df['publish_time'], errors='coerce')
df['year'] = df['publish_time'].dt.year

# Analysis: publications per year
year_counts = df['year'].value_counts().sort_index()
plt.bar(year_counts.index, year_counts.values)
plt.title("Publications by Year")
plt.xlabel("Year")
plt.ylabel("Number of Papers")
plt.show()

# Top journals
top_journals = df['journal'].value_counts().head(10)
sns.barplot(y=top_journals.index, x=top_journals.values, palette="viridis")
plt.title("Top Journals Publishing COVID-19 Research")
plt.xlabel("Number of Papers")
plt.ylabel("Journal")
plt.show()

